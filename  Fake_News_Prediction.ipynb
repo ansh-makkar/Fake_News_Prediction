{
 "cells": [
  {
   "cell_type": "code",
   "execution_count": 30,
   "id": "007cc22b",
   "metadata": {},
   "outputs": [],
   "source": [
    "#The First step is to import useful dependencies\n",
    "\n",
    "#It is useful in creating numpy arrays\n",
    "import numpy as np\n",
    "#It is useful for creating and storing data into data_frames\n",
    "import pandas as pd\n",
    "#It is useful for searching a comment or a word in a text or paragraph\n",
    "import re\n",
    "\n",
    "#In this we are using  NLPtoolkit model and importing its \"stopwards\" module and this stopwards help us to not include those \n",
    "#words that do not add value to our paragraph example:- the ,this that, and, it etc.\n",
    "from nltk.corpus import stopwords\n",
    "#this funtion is used to stem our words and hence find the root word.\n",
    "from nltk.stem.porter import PorterStemmer\n",
    "#In this we are importing our text into Vectors with the help of imported module tfidfVectorizer\n",
    "from sklearn.feature_extraction.text import TfidfVectorizer\n",
    "#This help us to Split our data into text data and train data\n",
    "from sklearn.model_selection import train_test_split\n",
    "#In this we are importing the \"Logistic_Regression_Model\" which will help in Classification\n",
    "from sklearn.linear_model import LogisticRegression\n",
    "#\n",
    "from sklearn.metrics import accuracy_score"
   ]
  },
  {
   "cell_type": "code",
   "execution_count": 44,
   "id": "e4d0ff57",
   "metadata": {},
   "outputs": [
    {
     "name": "stderr",
     "output_type": "stream",
     "text": [
      "[nltk_data] Downloading package stopwords to\n",
      "[nltk_data]     C:\\Users\\jbbon\\AppData\\Roaming\\nltk_data...\n",
      "[nltk_data]   Package stopwords is already up-to-date!\n"
     ]
    },
    {
     "data": {
      "text/plain": [
       "True"
      ]
     },
     "execution_count": 44,
     "metadata": {},
     "output_type": "execute_result"
    }
   ],
   "source": [
    "#In this we will bw importing nltk that is natural language toolkit that we will use later.\n",
    "import nltk \n",
    "nltk.download('stopwords')"
   ]
  },
  {
   "cell_type": "code",
   "execution_count": 45,
   "id": "a1822eff",
   "metadata": {},
   "outputs": [
    {
     "name": "stdout",
     "output_type": "stream",
     "text": [
      "['i', 'me', 'my', 'myself', 'we', 'our', 'ours', 'ourselves', 'you', \"you're\", \"you've\", \"you'll\", \"you'd\", 'your', 'yours', 'yourself', 'yourselves', 'he', 'him', 'his', 'himself', 'she', \"she's\", 'her', 'hers', 'herself', 'it', \"it's\", 'its', 'itself', 'they', 'them', 'their', 'theirs', 'themselves', 'what', 'which', 'who', 'whom', 'this', 'that', \"that'll\", 'these', 'those', 'am', 'is', 'are', 'was', 'were', 'be', 'been', 'being', 'have', 'has', 'had', 'having', 'do', 'does', 'did', 'doing', 'a', 'an', 'the', 'and', 'but', 'if', 'or', 'because', 'as', 'until', 'while', 'of', 'at', 'by', 'for', 'with', 'about', 'against', 'between', 'into', 'through', 'during', 'before', 'after', 'above', 'below', 'to', 'from', 'up', 'down', 'in', 'out', 'on', 'off', 'over', 'under', 'again', 'further', 'then', 'once', 'here', 'there', 'when', 'where', 'why', 'how', 'all', 'any', 'both', 'each', 'few', 'more', 'most', 'other', 'some', 'such', 'no', 'nor', 'not', 'only', 'own', 'same', 'so', 'than', 'too', 'very', 's', 't', 'can', 'will', 'just', 'don', \"don't\", 'should', \"should've\", 'now', 'd', 'll', 'm', 'o', 're', 've', 'y', 'ain', 'aren', \"aren't\", 'couldn', \"couldn't\", 'didn', \"didn't\", 'doesn', \"doesn't\", 'hadn', \"hadn't\", 'hasn', \"hasn't\", 'haven', \"haven't\", 'isn', \"isn't\", 'ma', 'mightn', \"mightn't\", 'mustn', \"mustn't\", 'needn', \"needn't\", 'shan', \"shan't\", 'shouldn', \"shouldn't\", 'wasn', \"wasn't\", 'weren', \"weren't\", 'won', \"won't\", 'wouldn', \"wouldn't\"]\n"
     ]
    }
   ],
   "source": [
    "# printing all the stopwards in English language\n",
    "print(stopwords.words(\"English\"))\n",
    "\n",
    "# print(stopwords.words('French'))"
   ]
  },
  {
   "cell_type": "markdown",
   "id": "30110a30",
   "metadata": {},
   "source": [
    "# Now The DATA PRE_PROCESSING Part Starts\n"
   ]
  },
  {
   "cell_type": "code",
   "execution_count": 46,
   "id": "e3fc77df",
   "metadata": {},
   "outputs": [],
   "source": [
    "#now lets load the dataset into a dataframe\n",
    "news_dataset=pd.read_csv(\"train.csv\")"
   ]
  },
  {
   "cell_type": "code",
   "execution_count": 47,
   "id": "9a3fcecb",
   "metadata": {},
   "outputs": [
    {
     "data": {
      "text/html": [
       "<div>\n",
       "<style scoped>\n",
       "    .dataframe tbody tr th:only-of-type {\n",
       "        vertical-align: middle;\n",
       "    }\n",
       "\n",
       "    .dataframe tbody tr th {\n",
       "        vertical-align: top;\n",
       "    }\n",
       "\n",
       "    .dataframe thead th {\n",
       "        text-align: right;\n",
       "    }\n",
       "</style>\n",
       "<table border=\"1\" class=\"dataframe\">\n",
       "  <thead>\n",
       "    <tr style=\"text-align: right;\">\n",
       "      <th></th>\n",
       "      <th>id</th>\n",
       "      <th>title</th>\n",
       "      <th>author</th>\n",
       "      <th>text</th>\n",
       "      <th>label</th>\n",
       "    </tr>\n",
       "  </thead>\n",
       "  <tbody>\n",
       "    <tr>\n",
       "      <th>0</th>\n",
       "      <td>0</td>\n",
       "      <td>House Dem Aide: We Didn’t Even See Comey’s Let...</td>\n",
       "      <td>Darrell Lucus</td>\n",
       "      <td>House Dem Aide: We Didn’t Even See Comey’s Let...</td>\n",
       "      <td>1</td>\n",
       "    </tr>\n",
       "    <tr>\n",
       "      <th>1</th>\n",
       "      <td>1</td>\n",
       "      <td>FLYNN: Hillary Clinton, Big Woman on Campus - ...</td>\n",
       "      <td>Daniel J. Flynn</td>\n",
       "      <td>Ever get the feeling your life circles the rou...</td>\n",
       "      <td>0</td>\n",
       "    </tr>\n",
       "    <tr>\n",
       "      <th>2</th>\n",
       "      <td>2</td>\n",
       "      <td>Why the Truth Might Get You Fired</td>\n",
       "      <td>Consortiumnews.com</td>\n",
       "      <td>Why the Truth Might Get You Fired October 29, ...</td>\n",
       "      <td>1</td>\n",
       "    </tr>\n",
       "    <tr>\n",
       "      <th>3</th>\n",
       "      <td>3</td>\n",
       "      <td>15 Civilians Killed In Single US Airstrike Hav...</td>\n",
       "      <td>Jessica Purkiss</td>\n",
       "      <td>Videos 15 Civilians Killed In Single US Airstr...</td>\n",
       "      <td>1</td>\n",
       "    </tr>\n",
       "    <tr>\n",
       "      <th>4</th>\n",
       "      <td>4</td>\n",
       "      <td>Iranian woman jailed for fictional unpublished...</td>\n",
       "      <td>Howard Portnoy</td>\n",
       "      <td>Print \\nAn Iranian woman has been sentenced to...</td>\n",
       "      <td>1</td>\n",
       "    </tr>\n",
       "  </tbody>\n",
       "</table>\n",
       "</div>"
      ],
      "text/plain": [
       "   id                                              title              author  \\\n",
       "0   0  House Dem Aide: We Didn’t Even See Comey’s Let...       Darrell Lucus   \n",
       "1   1  FLYNN: Hillary Clinton, Big Woman on Campus - ...     Daniel J. Flynn   \n",
       "2   2                  Why the Truth Might Get You Fired  Consortiumnews.com   \n",
       "3   3  15 Civilians Killed In Single US Airstrike Hav...     Jessica Purkiss   \n",
       "4   4  Iranian woman jailed for fictional unpublished...      Howard Portnoy   \n",
       "\n",
       "                                                text  label  \n",
       "0  House Dem Aide: We Didn’t Even See Comey’s Let...      1  \n",
       "1  Ever get the feeling your life circles the rou...      0  \n",
       "2  Why the Truth Might Get You Fired October 29, ...      1  \n",
       "3  Videos 15 Civilians Killed In Single US Airstr...      1  \n",
       "4  Print \\nAn Iranian woman has been sentenced to...      1  "
      ]
     },
     "execution_count": 47,
     "metadata": {},
     "output_type": "execute_result"
    }
   ],
   "source": [
    "news_dataset.head()\n",
    "# label 1 :- Represents Fake News\n",
    "# label 2 :- Represents real News"
   ]
  },
  {
   "cell_type": "code",
   "execution_count": 48,
   "id": "0b90b46b",
   "metadata": {},
   "outputs": [
    {
     "data": {
      "text/plain": [
       "(20800, 5)"
      ]
     },
     "execution_count": 48,
     "metadata": {},
     "output_type": "execute_result"
    }
   ],
   "source": [
    "news_dataset.shape"
   ]
  },
  {
   "cell_type": "code",
   "execution_count": 49,
   "id": "eedc5e53",
   "metadata": {},
   "outputs": [
    {
     "data": {
      "text/plain": [
       "id           0\n",
       "title      558\n",
       "author    1957\n",
       "text        39\n",
       "label        0\n",
       "dtype: int64"
      ]
     },
     "execution_count": 49,
     "metadata": {},
     "output_type": "execute_result"
    }
   ],
   "source": [
    "news_dataset.isnull().sum()"
   ]
  },
  {
   "cell_type": "code",
   "execution_count": 50,
   "id": "e0996b3a",
   "metadata": {},
   "outputs": [],
   "source": [
    "#As There Are few missing values so let's Put Null String On place of Empty values\n",
    "news_dataset=news_dataset.fillna('')"
   ]
  },
  {
   "cell_type": "code",
   "execution_count": 51,
   "id": "0fbd5042",
   "metadata": {},
   "outputs": [
    {
     "data": {
      "text/plain": [
       "id        0\n",
       "title     0\n",
       "author    0\n",
       "text      0\n",
       "label     0\n",
       "dtype: int64"
      ]
     },
     "execution_count": 51,
     "metadata": {},
     "output_type": "execute_result"
    }
   ],
   "source": [
    "#let See now how may values are empty Now\n",
    "news_dataset.isnull().sum()"
   ]
  },
  {
   "cell_type": "code",
   "execution_count": 52,
   "id": "a7b63c86",
   "metadata": {},
   "outputs": [
    {
     "data": {
      "text/plain": [
       "0    Darrell LucusHouse Dem Aide: We Didn’t Even Se...\n",
       "1    Daniel J. FlynnFLYNN: Hillary Clinton, Big Wom...\n",
       "2    Consortiumnews.comWhy the Truth Might Get You ...\n",
       "3    Jessica Purkiss15 Civilians Killed In Single U...\n",
       "4    Howard PortnoyIranian woman jailed for fiction...\n",
       "Name: content, dtype: object"
      ]
     },
     "execution_count": 52,
     "metadata": {},
     "output_type": "execute_result"
    }
   ],
   "source": [
    "#We Will Check our model on Author and title only as the text is very large so traning it may consume your most of the time \n",
    "#so to do that we will merge both The Title Column and Author Column\n",
    "\n",
    "news_dataset['content']=news_dataset['author']+news_dataset['title']\n",
    "news_dataset['content'].head()"
   ]
  },
  {
   "cell_type": "code",
   "execution_count": 53,
   "id": "e11e7633",
   "metadata": {},
   "outputs": [
    {
     "name": "stdout",
     "output_type": "stream",
     "text": [
      "          id                                              title  \\\n",
      "0          0  House Dem Aide: We Didn’t Even See Comey’s Let...   \n",
      "1          1  FLYNN: Hillary Clinton, Big Woman on Campus - ...   \n",
      "2          2                  Why the Truth Might Get You Fired   \n",
      "3          3  15 Civilians Killed In Single US Airstrike Hav...   \n",
      "4          4  Iranian woman jailed for fictional unpublished...   \n",
      "...      ...                                                ...   \n",
      "20795  20795  Rapper T.I.: Trump a ’Poster Child For White S...   \n",
      "20796  20796  N.F.L. Playoffs: Schedule, Matchups and Odds -...   \n",
      "20797  20797  Macy’s Is Said to Receive Takeover Approach by...   \n",
      "20798  20798  NATO, Russia To Hold Parallel Exercises In Bal...   \n",
      "20799  20799                          What Keeps the F-35 Alive   \n",
      "\n",
      "                                          author  \\\n",
      "0                                  Darrell Lucus   \n",
      "1                                Daniel J. Flynn   \n",
      "2                             Consortiumnews.com   \n",
      "3                                Jessica Purkiss   \n",
      "4                                 Howard Portnoy   \n",
      "...                                          ...   \n",
      "20795                              Jerome Hudson   \n",
      "20796                           Benjamin Hoffman   \n",
      "20797  Michael J. de la Merced and Rachel Abrams   \n",
      "20798                                Alex Ansary   \n",
      "20799                              David Swanson   \n",
      "\n",
      "                                                    text  \\\n",
      "0      House Dem Aide: We Didn’t Even See Comey’s Let...   \n",
      "1      Ever get the feeling your life circles the rou...   \n",
      "2      Why the Truth Might Get You Fired October 29, ...   \n",
      "3      Videos 15 Civilians Killed In Single US Airstr...   \n",
      "4      Print \\nAn Iranian woman has been sentenced to...   \n",
      "...                                                  ...   \n",
      "20795  Rapper T. I. unloaded on black celebrities who...   \n",
      "20796  When the Green Bay Packers lost to the Washing...   \n",
      "20797  The Macy’s of today grew from the union of sev...   \n",
      "20798  NATO, Russia To Hold Parallel Exercises In Bal...   \n",
      "20799    David Swanson is an author, activist, journa...   \n",
      "\n",
      "                                                 content  \n",
      "0      Darrell LucusHouse Dem Aide: We Didn’t Even Se...  \n",
      "1      Daniel J. FlynnFLYNN: Hillary Clinton, Big Wom...  \n",
      "2      Consortiumnews.comWhy the Truth Might Get You ...  \n",
      "3      Jessica Purkiss15 Civilians Killed In Single U...  \n",
      "4      Howard PortnoyIranian woman jailed for fiction...  \n",
      "...                                                  ...  \n",
      "20795  Jerome HudsonRapper T.I.: Trump a ’Poster Chil...  \n",
      "20796  Benjamin HoffmanN.F.L. Playoffs: Schedule, Mat...  \n",
      "20797  Michael J. de la Merced and Rachel AbramsMacy’...  \n",
      "20798  Alex AnsaryNATO, Russia To Hold Parallel Exerc...  \n",
      "20799             David SwansonWhat Keeps the F-35 Alive  \n",
      "\n",
      "[20800 rows x 5 columns]\n",
      "0        1\n",
      "1        0\n",
      "2        1\n",
      "3        1\n",
      "4        1\n",
      "        ..\n",
      "20795    0\n",
      "20796    0\n",
      "20797    0\n",
      "20798    1\n",
      "20799    1\n",
      "Name: label, Length: 20800, dtype: int64\n"
     ]
    }
   ],
   "source": [
    "#Removing the label from dataset and storing it in A varible name \"X\"\n",
    "X=news_dataset.drop(columns='label',axis=1)\n",
    "Y=news_dataset['label']\n",
    "#let's See these X and Y\n",
    "print(X)\n",
    "# print(\"\\n\")\n",
    "print(Y)"
   ]
  },
  {
   "cell_type": "markdown",
   "id": "265a9fc2",
   "metadata": {},
   "source": [
    "# Stemming Is the Process of Reducing word to its Root word\n",
    "#For Example:- Actress, Actor, Acting --> act"
   ]
  },
  {
   "cell_type": "code",
   "execution_count": 62,
   "id": "6d7bee44",
   "metadata": {},
   "outputs": [],
   "source": [
    "#\n",
    "port_stem=PorterStemmer()"
   ]
  },
  {
   "cell_type": "code",
   "execution_count": 63,
   "id": "789f9489",
   "metadata": {},
   "outputs": [],
   "source": [
    "#Now We Are creating a function that will remove all the non-beneficial values \n",
    "def stemming(content):\n",
    "    #in this step we are using re module to search only alphabets and remove every other things like , ,\"\",numbers etc.\n",
    "    stemmed_content = re.sub('[^a-zA-Z]',' ',content)\n",
    "    #now convert all the letters into lowercase letters\n",
    "    stemmed_content = stemmed_content.lower()\n",
    "    #now all the text is splitted and converted into list\n",
    "    stemmed_content = stemmed_content.split()\n",
    "    #in this step we are running a for loop and storing all the non stopword present in \"stemmed_content\".\n",
    "    stemmed_content = [port_stem.stem(word) for word in stemmed_content if not word in stopwords.words('english')]\n",
    "    stemmed_content = ' '.join(stemmed_content)\n",
    "    return stemmed_content"
   ]
  },
  {
   "cell_type": "code",
   "execution_count": 64,
   "id": "0736ea82",
   "metadata": {},
   "outputs": [
    {
     "data": {
      "text/plain": [
       "0    darrel lucush dem aid even see comey letter ja...\n",
       "1    daniel j flynnflynn hillari clinton big woman ...\n",
       "2            consortiumnew comwhi truth might get fire\n",
       "3    jessica purkiss civilian kill singl us airstri...\n",
       "4    howard portnoyiranian woman jail fiction unpub...\n",
       "Name: content, dtype: object"
      ]
     },
     "execution_count": 64,
     "metadata": {},
     "output_type": "execute_result"
    }
   ],
   "source": [
    "#Now Let's Apply this stemming on our \"news_dataset['content']\"\n",
    "news_dataset['content']=news_dataset['content'].apply(stemming)\n",
    "news_dataset['content'].head()"
   ]
  },
  {
   "cell_type": "code",
   "execution_count": 65,
   "id": "dc6b0ed6",
   "metadata": {},
   "outputs": [
    {
     "name": "stdout",
     "output_type": "stream",
     "text": [
      "['darrel lucush dem aid even see comey letter jason chaffetz tweet'\n",
      " 'daniel j flynnflynn hillari clinton big woman campu breitbart'\n",
      " 'consortiumnew comwhi truth might get fire' ...\n",
      " 'michael j de la merc rachel abramsmaci said receiv takeov approach hudson bay new york time'\n",
      " 'alex ansarynato russia hold parallel exerci balkan'\n",
      " 'david swansonwhat keep f aliv']\n"
     ]
    }
   ],
   "source": [
    "#In this step we are seprating data and values\n",
    "X=news_dataset['content'].values\n",
    "Y=news_dataset['label'].values\n",
    "print(X)"
   ]
  },
  {
   "cell_type": "code",
   "execution_count": 66,
   "id": "a8ab0e8d",
   "metadata": {},
   "outputs": [],
   "source": [
    "#Converting Textual Data To Numerical Data\n",
    "#This Tf stands for term frequency :-  this basically counts how many times a particular word is repeated in paragraph and\n",
    "# hence assign it a larger value because it may be important that's why it is repested many times.\n",
    "# and this idf stands for inverse difi frequency :- this states that if a word is repeated many times doesn't mean it will \n",
    "# have more importance or meaning in it\n",
    "vectorizer = TfidfVectorizer()\n",
    "vectorizer.fit(X)\n",
    "X = vectorizer.transform(X)\n",
    "# print(X)"
   ]
  },
  {
   "cell_type": "code",
   "execution_count": 67,
   "id": "d15a2aa8",
   "metadata": {},
   "outputs": [
    {
     "name": "stdout",
     "output_type": "stream",
     "text": [
      "  (0, 26171)\t0.28088379401596425\n",
      "  (0, 22568)\t0.2552336018069161\n",
      "  (0, 14920)\t0.43006226759639316\n",
      "  (0, 14460)\t0.29177259684200296\n",
      "  (0, 12695)\t0.24619727512767195\n",
      "  (0, 7961)\t0.23133661742488731\n",
      "  (0, 6233)\t0.2839932825877813\n",
      "  (0, 5930)\t0.35488202138141456\n",
      "  (0, 4975)\t0.2472595823572816\n",
      "  (0, 4187)\t0.3625320323150658\n",
      "  (0, 572)\t0.2694167078545385\n",
      "  (1, 27744)\t0.37204408227449065\n",
      "  (1, 11235)\t0.2434639969074374\n",
      "  (1, 8704)\t0.5300315426405939\n",
      "  (1, 5877)\t0.3206218375341294\n",
      "  (1, 4739)\t0.23523739119536424\n",
      "  (1, 3838)\t0.44601381123255807\n",
      "  (1, 3260)\t0.18800278047529806\n",
      "  (1, 2602)\t0.35911932371235855\n",
      "  (2, 26066)\t0.3665032495181434\n",
      "  (2, 16256)\t0.43295215406038445\n",
      "  (2, 9384)\t0.30743020569262086\n",
      "  (2, 8499)\t0.3411947414020896\n",
      "  (2, 5204)\t0.40440534260277944\n",
      "  (2, 5089)\t0.5511414848555652\n",
      "  :\t:\n",
      "  (20797, 25609)\t0.08234347981192172\n",
      "  (20797, 25155)\t0.3125002447493035\n",
      "  (20797, 21934)\t0.2494515865666979\n",
      "  (20797, 20637)\t0.2734270447609076\n",
      "  (20797, 20353)\t0.25042469546773877\n",
      "  (20797, 17396)\t0.08104362479383843\n",
      "  (20797, 16211)\t0.17875228080871305\n",
      "  (20797, 16114)\t0.3242703661541431\n",
      "  (20797, 14015)\t0.22800931704455404\n",
      "  (20797, 11613)\t0.29796600751883373\n",
      "  (20797, 6048)\t0.21289625603896975\n",
      "  (20797, 2240)\t0.3363554202191793\n",
      "  (20797, 1236)\t0.3077504076403579\n",
      "  (20797, 72)\t0.3889641374897982\n",
      "  (20798, 21786)\t0.2284042880065583\n",
      "  (20798, 18637)\t0.43981843518920394\n",
      "  (20798, 11355)\t0.3219420705942853\n",
      "  (20798, 8032)\t0.40266358130888547\n",
      "  (20798, 1905)\t0.43981843518920394\n",
      "  (20798, 1070)\t0.4638903157542853\n",
      "  (20798, 690)\t0.2827933658592677\n",
      "  (20799, 24985)\t0.6713314187498636\n",
      "  (20799, 13241)\t0.4138037375613909\n",
      "  (20799, 5979)\t0.345590335823275\n",
      "  (20799, 725)\t0.5085743925573473\n"
     ]
    }
   ],
   "source": [
    "print(X)"
   ]
  },
  {
   "cell_type": "markdown",
   "id": "55fd2b7d",
   "metadata": {},
   "source": [
    "# Spliting Out Data Into Train And Test Data"
   ]
  },
  {
   "cell_type": "code",
   "execution_count": 75,
   "id": "b1a20ac1",
   "metadata": {},
   "outputs": [],
   "source": [
    "#In this we are splitint data into four parts that is x train xtest, ytrain and ytest in 80-20 ratio\n",
    "X_train,X_test,Y_train,Y_test=train_test_split(X,Y,test_size=0.2,stratify=Y,random_state=3)"
   ]
  },
  {
   "cell_type": "code",
   "execution_count": 76,
   "id": "c6af48d4",
   "metadata": {},
   "outputs": [],
   "source": [
    "#Traing The Model(LOGISTIC_REGRESSION)\n",
    "model=LogisticRegression()"
   ]
  },
  {
   "cell_type": "code",
   "execution_count": 77,
   "id": "f63146d4",
   "metadata": {},
   "outputs": [
    {
     "data": {
      "text/plain": [
       "LogisticRegression()"
      ]
     },
     "execution_count": 77,
     "metadata": {},
     "output_type": "execute_result"
    }
   ],
   "source": [
    "model.fit(X_train,Y_train)"
   ]
  },
  {
   "cell_type": "code",
   "execution_count": 78,
   "id": "23cc0788",
   "metadata": {},
   "outputs": [],
   "source": [
    "# accuracy score on the training data\n",
    "X_train_prediction = model.predict(X_train)\n",
    "training_data_accuracy = accuracy_score(X_train_prediction, Y_train)"
   ]
  },
  {
   "cell_type": "code",
   "execution_count": 79,
   "id": "8364fd40",
   "metadata": {},
   "outputs": [
    {
     "name": "stdout",
     "output_type": "stream",
     "text": [
      "The Accuracy score is :-  0.97109375\n"
     ]
    }
   ],
   "source": [
    "print(\"The Accuracy score is :- \",training_data_accuracy)"
   ]
  },
  {
   "cell_type": "code",
   "execution_count": 81,
   "id": "57d19536",
   "metadata": {},
   "outputs": [],
   "source": [
    "X_test_prediction=model.predict(X_test)\n",
    "test_data_accuracy=accuracy_score(X_test_prediction,Y_test)"
   ]
  },
  {
   "cell_type": "code",
   "execution_count": 82,
   "id": "4c316559",
   "metadata": {},
   "outputs": [
    {
     "name": "stdout",
     "output_type": "stream",
     "text": [
      "The Accuracy score is :-  0.9557692307692308\n"
     ]
    }
   ],
   "source": [
    "print(\"The Accuracy score is :- \",test_data_accuracy)"
   ]
  },
  {
   "cell_type": "code",
   "execution_count": 90,
   "id": "2593fc03",
   "metadata": {},
   "outputs": [
    {
     "name": "stdout",
     "output_type": "stream",
     "text": [
      "[0]\n",
      "The news is Real\n"
     ]
    }
   ],
   "source": [
    "X_new = X_test[1]\n",
    "\n",
    "prediction = model.predict(X_new)\n",
    "print(prediction)\n",
    "\n",
    "if (prediction==0):\n",
    "  print('The news is Real')\n",
    "else:\n",
    "  print('The news is Fake')"
   ]
  },
  {
   "cell_type": "code",
   "execution_count": null,
   "id": "21b7f672",
   "metadata": {},
   "outputs": [],
   "source": []
  },
  {
   "cell_type": "code",
   "execution_count": null,
   "id": "178cba7b",
   "metadata": {},
   "outputs": [],
   "source": []
  },
  {
   "cell_type": "code",
   "execution_count": null,
   "id": "a70828af",
   "metadata": {},
   "outputs": [],
   "source": []
  }
 ],
 "metadata": {
  "kernelspec": {
   "display_name": "Python 3 (ipykernel)",
   "language": "python",
   "name": "python3"
  },
  "language_info": {
   "codemirror_mode": {
    "name": "ipython",
    "version": 3
   },
   "file_extension": ".py",
   "mimetype": "text/x-python",
   "name": "python",
   "nbconvert_exporter": "python",
   "pygments_lexer": "ipython3",
   "version": "3.9.7"
  }
 },
 "nbformat": 4,
 "nbformat_minor": 5
}
